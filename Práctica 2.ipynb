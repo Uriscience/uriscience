{
 "cells": [
  {
   "cell_type": "code",
   "execution_count": 29,
   "metadata": {},
   "outputs": [],
   "source": [
    "import pandas as pd\n",
    "import missingno as msno\n",
    "import numpy as np\n",
    "%matplotlib inline\n",
    "import datetime # fechas y horas\n",
    "import re # texto\n",
    "import string # texto2\n",
    "import matplotlib.pyplot as plt # graficar\n",
    "import seaborn as sns # graficar2\n",
    "import io\n",
    "\n",
    "from sklearn.feature_extraction.text import CountVectorizer # NLP\n",
    "from wordcloud import WordCloud\n",
    "import emoji  \n",
    "\n",
    "pd.set_option('display.max_rows', 500)"
   ]
  },
  {
   "cell_type": "code",
   "execution_count": 10,
   "metadata": {},
   "outputs": [],
   "source": [
    "path = 'tablac.csv'\n",
    "df = pd.read_csv(path, sep=',', encoding='utf8', engine='python')"
   ]
  },
  {
   "cell_type": "code",
   "execution_count": 12,
   "metadata": {},
   "outputs": [
    {
     "data": {
      "text/html": [
       "<div>\n",
       "<style scoped>\n",
       "    .dataframe tbody tr th:only-of-type {\n",
       "        vertical-align: middle;\n",
       "    }\n",
       "\n",
       "    .dataframe tbody tr th {\n",
       "        vertical-align: top;\n",
       "    }\n",
       "\n",
       "    .dataframe thead th {\n",
       "        text-align: right;\n",
       "    }\n",
       "</style>\n",
       "<table border=\"1\" class=\"dataframe\">\n",
       "  <thead>\n",
       "    <tr style=\"text-align: right;\">\n",
       "      <th></th>\n",
       "      <th>fecha</th>\n",
       "      <th>hora</th>\n",
       "      <th>mensaje</th>\n",
       "      <th>persona</th>\n",
       "    </tr>\n",
       "  </thead>\n",
       "  <tbody>\n",
       "    <tr>\n",
       "      <th>0</th>\n",
       "      <td>2019-03-08</td>\n",
       "      <td>13:14:00</td>\n",
       "      <td>XD</td>\n",
       "      <td>x1</td>\n",
       "    </tr>\n",
       "    <tr>\n",
       "      <th>1</th>\n",
       "      <td>2019-03-08</td>\n",
       "      <td>13:15:00</td>\n",
       "      <td>Quien es Kike y quien ea Lalo?</td>\n",
       "      <td>x2</td>\n",
       "    </tr>\n",
       "    <tr>\n",
       "      <th>2</th>\n",
       "      <td>2019-03-08</td>\n",
       "      <td>13:15:00</td>\n",
       "      <td>🤔</td>\n",
       "      <td>x2</td>\n",
       "    </tr>\n",
       "    <tr>\n",
       "      <th>3</th>\n",
       "      <td>2019-03-08</td>\n",
       "      <td>13:16:00</td>\n",
       "      <td>&lt;Multimedia omitido&gt;</td>\n",
       "      <td>x3</td>\n",
       "    </tr>\n",
       "    <tr>\n",
       "      <th>4</th>\n",
       "      <td>2019-03-08</td>\n",
       "      <td>13:17:00</td>\n",
       "      <td>Va jeje</td>\n",
       "      <td>x2</td>\n",
       "    </tr>\n",
       "  </tbody>\n",
       "</table>\n",
       "</div>"
      ],
      "text/plain": [
       "        fecha      hora                          mensaje persona\n",
       "0  2019-03-08  13:14:00                               XD      x1\n",
       "1  2019-03-08  13:15:00   Quien es Kike y quien ea Lalo?      x2\n",
       "2  2019-03-08  13:15:00                               🤔      x2\n",
       "3  2019-03-08  13:16:00             <Multimedia omitido>      x3\n",
       "4  2019-03-08  13:17:00                          Va jeje      x2"
      ]
     },
     "execution_count": 12,
     "metadata": {},
     "output_type": "execute_result"
    }
   ],
   "source": [
    "df.head(5)"
   ]
  },
  {
   "cell_type": "code",
   "execution_count": 13,
   "metadata": {},
   "outputs": [],
   "source": [
    "df_copy = df.copy()"
   ]
  },
  {
   "cell_type": "code",
   "execution_count": 15,
   "metadata": {},
   "outputs": [
    {
     "data": {
      "text/plain": [
       "(7147, 4)"
      ]
     },
     "execution_count": 15,
     "metadata": {},
     "output_type": "execute_result"
    }
   ],
   "source": [
    "df_copy.shape"
   ]
  },
  {
   "cell_type": "code",
   "execution_count": 16,
   "metadata": {},
   "outputs": [
    {
     "data": {
      "text/plain": [
       "7147"
      ]
     },
     "execution_count": 16,
     "metadata": {},
     "output_type": "execute_result"
    }
   ],
   "source": [
    "df_copy.shape[0]"
   ]
  },
  {
   "cell_type": "code",
   "execution_count": 18,
   "metadata": {},
   "outputs": [
    {
     "data": {
      "text/plain": [
       "4"
      ]
     },
     "execution_count": 18,
     "metadata": {},
     "output_type": "execute_result"
    }
   ],
   "source": [
    "df_copy.shape[1]"
   ]
  },
  {
   "cell_type": "code",
   "execution_count": 19,
   "metadata": {},
   "outputs": [
    {
     "data": {
      "text/plain": [
       "Index([u'fecha', u'hora', u'mensaje', u'persona'], dtype='object')"
      ]
     },
     "execution_count": 19,
     "metadata": {},
     "output_type": "execute_result"
    }
   ],
   "source": [
    "df_copy.columns"
   ]
  },
  {
   "cell_type": "code",
   "execution_count": 21,
   "metadata": {},
   "outputs": [
    {
     "data": {
      "text/plain": [
       "[u'fecha', u'hora', u'mensaje', u'persona']"
      ]
     },
     "execution_count": 21,
     "metadata": {},
     "output_type": "execute_result"
    }
   ],
   "source": [
    "list(df_copy.columns)"
   ]
  },
  {
   "cell_type": "code",
   "execution_count": 23,
   "metadata": {},
   "outputs": [
    {
     "data": {
      "text/plain": [
       "x5     1467\n",
       "x4     1287\n",
       "x8     1069\n",
       "x2      911\n",
       "x6      651\n",
       "x7      641\n",
       "x9      393\n",
       "x1      311\n",
       "x11     242\n",
       "x10     147\n",
       "x3       28\n",
       "Name: persona, dtype: int64"
      ]
     },
     "execution_count": 23,
     "metadata": {},
     "output_type": "execute_result"
    }
   ],
   "source": [
    "df_copy['persona'].value_counts()"
   ]
  },
  {
   "cell_type": "code",
   "execution_count": 26,
   "metadata": {},
   "outputs": [
    {
     "data": {
      "text/plain": [
       "array([u'2019-03-08', u'2019-03-12', u'2019-03-13', u'2019-03-14',\n",
       "       u'2019-03-19', u'2019-03-20', u'2019-03-22', u'2019-03-25',\n",
       "       u'2019-03-27', u'2019-03-28', u'2019-03-29', u'2019-04-02',\n",
       "       u'2019-04-03', u'2019-04-04', u'2019-04-05', u'2019-04-08',\n",
       "       u'2019-04-09', u'2019-04-10', u'2019-04-11', u'2019-04-12',\n",
       "       u'2019-04-15', u'2019-04-16', u'2019-04-17', u'2019-04-22',\n",
       "       u'2019-04-23', u'2019-04-24', u'2019-04-25', u'2019-04-26',\n",
       "       u'2019-04-29', u'2019-04-30', u'2019-05-01', u'2019-05-02',\n",
       "       u'2019-05-03', u'2019-05-06', u'2019-05-07', u'2019-05-08',\n",
       "       u'2019-05-09', u'2019-05-10', u'2019-05-13', u'2019-05-14',\n",
       "       u'2019-05-15', u'2019-05-16', u'2019-05-19', u'2019-05-20',\n",
       "       u'2019-05-21', u'2019-05-23', u'2019-05-24', u'2019-05-27',\n",
       "       u'2019-05-28', u'2019-05-29', u'2019-05-30', u'2019-05-31',\n",
       "       u'2019-06-03', u'2019-06-04', u'2019-06-05', u'2019-06-06',\n",
       "       u'2019-06-07', u'2019-06-10', u'2019-06-11', u'2019-06-12',\n",
       "       u'2019-06-13', u'2019-06-17', u'2019-06-18', u'2019-06-19',\n",
       "       u'2019-06-20', u'2019-06-21', u'2019-06-22', u'2019-06-24',\n",
       "       u'2019-06-26', u'2019-06-27', u'2019-06-28', u'2019-07-01',\n",
       "       u'2019-07-02', u'2019-07-03', u'2019-07-04', u'2019-07-05',\n",
       "       u'2019-07-07', u'2019-07-08', u'2019-07-09', u'2019-07-10',\n",
       "       u'2019-07-11', u'2019-07-12', u'2019-07-14', u'2019-07-15',\n",
       "       u'2019-07-16', u'2019-07-17', u'2019-07-18', u'2019-07-19',\n",
       "       u'2019-07-22', u'2019-07-23', u'2019-07-24', u'2019-07-25',\n",
       "       u'2019-07-26', u'2019-07-27', u'2019-07-29', u'2019-07-30',\n",
       "       u'2019-07-31', u'2019-08-02', u'2019-08-05', u'2019-08-06',\n",
       "       u'2019-08-07', u'2019-08-08', u'2019-08-09', u'2019-08-12',\n",
       "       u'2019-08-13', u'2019-08-14', u'2019-08-15', u'2019-08-16',\n",
       "       u'2019-08-19', u'2019-08-20', u'2019-08-21', u'2019-08-22',\n",
       "       u'2019-08-23', u'2019-08-25', u'2019-08-26', u'2019-08-27',\n",
       "       u'2019-08-28', u'2019-08-29', u'2019-08-30', u'2019-09-02',\n",
       "       u'2019-09-03', u'2019-09-04', u'2019-09-05', u'2019-09-08',\n",
       "       u'2019-09-09', u'2019-09-10', u'2019-09-11', u'2019-09-12',\n",
       "       u'2019-09-13', u'2019-09-14', u'2019-09-15', u'2019-09-16',\n",
       "       u'2019-09-17', u'2019-09-18', u'2019-09-19', u'2019-09-21',\n",
       "       u'2019-09-22', u'2019-09-23', u'2019-09-24', u'2019-09-25',\n",
       "       u'2019-09-26', u'2019-09-27', u'2019-09-28', u'2019-09-29',\n",
       "       u'2019-09-30', u'2019-10-01', u'2019-10-02', u'2019-10-03',\n",
       "       u'2019-10-04', u'2019-10-06', u'2019-10-07', u'2019-10-08',\n",
       "       u'2019-10-09', u'2019-10-10', u'2019-10-11', u'2019-10-14',\n",
       "       u'2019-10-15', u'2019-10-16', u'2019-10-17', u'2019-10-18',\n",
       "       u'2019-10-19', u'2019-10-20', u'2019-10-21', u'2019-10-22',\n",
       "       u'2019-10-23', u'2019-10-24', u'2019-10-25', u'2019-10-27',\n",
       "       u'2019-10-28', u'2019-10-30', u'2019-10-31', u'2019-11-01',\n",
       "       u'2019-11-02', u'2019-11-04', u'2019-11-05', u'2019-11-06',\n",
       "       u'2019-11-07', u'2019-11-08', u'2019-11-10', u'2019-11-11',\n",
       "       u'2019-11-12', u'2019-11-13', u'2019-11-14', u'2019-11-15',\n",
       "       u'2019-11-17', u'2019-11-19', u'2019-11-20', u'2019-11-21',\n",
       "       u'2019-11-22', u'2019-11-23', u'2019-11-24', u'2019-11-25',\n",
       "       u'2019-11-26', u'2019-11-27', u'2019-11-28', u'2019-11-29',\n",
       "       u'2019-11-30', u'2019-12-01', u'2019-12-02', u'2019-12-03',\n",
       "       u'2019-12-04', u'2019-12-05', u'2019-12-06', u'2019-12-09',\n",
       "       u'2019-12-10', u'2019-12-11', u'2019-12-12', u'2019-12-13',\n",
       "       u'2019-12-16', u'2019-12-17', u'2019-12-18', u'2019-12-19',\n",
       "       u'2019-12-20', u'2019-12-22', u'2019-12-23', u'2019-12-24',\n",
       "       u'2019-12-27', u'2019-12-28', u'2019-12-30', u'2019-12-31',\n",
       "       u'2020-01-01', u'2020-01-02'], dtype=object)"
      ]
     },
     "execution_count": 26,
     "metadata": {},
     "output_type": "execute_result"
    }
   ],
   "source": [
    "df_copy['fecha'].unique()"
   ]
  },
  {
   "cell_type": "code",
   "execution_count": 28,
   "metadata": {
    "scrolled": true
   },
   "outputs": [
    {
     "data": {
      "text/plain": [
       "<matplotlib.axes._subplots.AxesSubplot at 0xce35710>"
      ]
     },
     "execution_count": 28,
     "metadata": {},
     "output_type": "execute_result"
    },
    {
     "data": {
      "image/png": "[encoded data removed]",
      "text/plain": [
       "<Figure size 1728x720 with 3 Axes>"
      ]
     },
     "metadata": {
      "needs_background": "light"
     },
     "output_type": "display_data"
    }
   ],
   "source": [
    "msno.bar(df_copy)"
   ]
  },
  {
   "cell_type": "code",
   "execution_count": 34,
   "metadata": {},
   "outputs": [],
   "source": [
    "cont = 0\n",
    "dict_time = {}\n",
    "for hour in range(0, 24):\n",
    "    for minute in range(0, 60):\n",
    "        cont += 1\n",
    "        dict_time[datetime.time(hour, minute)] = cont\n",
    "        #print(cont, '\\t', hour, ':', minute)"
   ]
  },
  {
   "cell_type": "code",
   "execution_count": 35,
   "metadata": {},
   "outputs": [],
   "source": [
    "df_copy['lab_minutes'] = df_copy['hora'].map(dict_time).copy()"
   ]
  },
  {
   "cell_type": "code",
   "execution_count": 36,
   "metadata": {},
   "outputs": [
    {
     "data": {
      "text/html": [
       "<div>\n",
       "<style scoped>\n",
       "    .dataframe tbody tr th:only-of-type {\n",
       "        vertical-align: middle;\n",
       "    }\n",
       "\n",
       "    .dataframe tbody tr th {\n",
       "        vertical-align: top;\n",
       "    }\n",
       "\n",
       "    .dataframe thead th {\n",
       "        text-align: right;\n",
       "    }\n",
       "</style>\n",
       "<table border=\"1\" class=\"dataframe\">\n",
       "  <thead>\n",
       "    <tr style=\"text-align: right;\">\n",
       "      <th></th>\n",
       "      <th>fecha</th>\n",
       "      <th>hora</th>\n",
       "      <th>mensaje</th>\n",
       "      <th>persona</th>\n",
       "      <th>lab_minutes</th>\n",
       "    </tr>\n",
       "  </thead>\n",
       "  <tbody>\n",
       "    <tr>\n",
       "      <th>0</th>\n",
       "      <td>2019-03-08</td>\n",
       "      <td>13:14:00</td>\n",
       "      <td>XD</td>\n",
       "      <td>x1</td>\n",
       "      <td>NaN</td>\n",
       "    </tr>\n",
       "    <tr>\n",
       "      <th>1</th>\n",
       "      <td>2019-03-08</td>\n",
       "      <td>13:15:00</td>\n",
       "      <td>Quien es Kike y quien ea Lalo?</td>\n",
       "      <td>x2</td>\n",
       "      <td>NaN</td>\n",
       "    </tr>\n",
       "    <tr>\n",
       "      <th>2</th>\n",
       "      <td>2019-03-08</td>\n",
       "      <td>13:15:00</td>\n",
       "      <td>🤔</td>\n",
       "      <td>x2</td>\n",
       "      <td>NaN</td>\n",
       "    </tr>\n",
       "    <tr>\n",
       "      <th>3</th>\n",
       "      <td>2019-03-08</td>\n",
       "      <td>13:16:00</td>\n",
       "      <td>&lt;Multimedia omitido&gt;</td>\n",
       "      <td>x3</td>\n",
       "      <td>NaN</td>\n",
       "    </tr>\n",
       "    <tr>\n",
       "      <th>4</th>\n",
       "      <td>2019-03-08</td>\n",
       "      <td>13:17:00</td>\n",
       "      <td>Va jeje</td>\n",
       "      <td>x2</td>\n",
       "      <td>NaN</td>\n",
       "    </tr>\n",
       "  </tbody>\n",
       "</table>\n",
       "</div>"
      ],
      "text/plain": [
       "        fecha      hora                          mensaje persona  lab_minutes\n",
       "0  2019-03-08  13:14:00                               XD      x1          NaN\n",
       "1  2019-03-08  13:15:00   Quien es Kike y quien ea Lalo?      x2          NaN\n",
       "2  2019-03-08  13:15:00                               🤔      x2          NaN\n",
       "3  2019-03-08  13:16:00             <Multimedia omitido>      x3          NaN\n",
       "4  2019-03-08  13:17:00                          Va jeje      x2          NaN"
      ]
     },
     "execution_count": 36,
     "metadata": {},
     "output_type": "execute_result"
    }
   ],
   "source": [
    "df_copy.head()"
   ]
  },
  {
   "cell_type": "code",
   "execution_count": null,
   "metadata": {},
   "outputs": [],
   "source": []
  }
 ],
 "metadata": {
  "kernelspec": {
   "display_name": "Python 2",
   "language": "python",
   "name": "python2"
  },
  "language_info": {
   "codemirror_mode": {
    "name": "ipython",
    "version": 2
   },
   "file_extension": ".py",
   "mimetype": "text/x-python",
   "name": "python",
   "nbconvert_exporter": "python",
   "pygments_lexer": "ipython2",
   "version": "2.7.16"
  }
 },
 "nbformat": 4,
 "nbformat_minor": 2
}
