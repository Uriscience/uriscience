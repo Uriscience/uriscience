{
 "cells": [
  {
   "cell_type": "code",
   "execution_count": 3,
   "metadata": {},
   "outputs": [],
   "source": [
    "import pandas as pd\n",
    "import numpy as np\n",
    "import matplotlib.pyplot as plt\n",
    "\n",
    "from sklearn.model_selection import train_test_split\n",
    "from sklearn.preprocessing import OrdinalEncoder \n",
    "from sklearn.preprocessing import LabelEncoder\n",
    "from sklearn.feature_selection import SelectKBest, chi2, mutual_info_classif"
   ]
  },
  {
   "cell_type": "code",
   "execution_count": 4,
   "metadata": {},
   "outputs": [],
   "source": [
    "##El análisis de nuestros datos solo conlleva una variable númerica que cuenta el número de mensajes por minuto\n",
    "##no hay objetivo"
   ]
  },
  {
   "cell_type": "code",
   "execution_count": 5,
   "metadata": {},
   "outputs": [],
   "source": [
    "path = 'tablad.csv'\n",
    "df = pd.read_csv(path, sep=',', encoding='utf8', engine='python')"
   ]
  },
  {
   "cell_type": "code",
   "execution_count": 6,
   "metadata": {},
   "outputs": [
    {
     "data": {
      "text/html": [
       "<div>\n",
       "<style scoped>\n",
       "    .dataframe tbody tr th:only-of-type {\n",
       "        vertical-align: middle;\n",
       "    }\n",
       "\n",
       "    .dataframe tbody tr th {\n",
       "        vertical-align: top;\n",
       "    }\n",
       "\n",
       "    .dataframe thead th {\n",
       "        text-align: right;\n",
       "    }\n",
       "</style>\n",
       "<table border=\"1\" class=\"dataframe\">\n",
       "  <thead>\n",
       "    <tr style=\"text-align: right;\">\n",
       "      <th></th>\n",
       "      <th>fecha</th>\n",
       "      <th>hora</th>\n",
       "      <th>mensaje</th>\n",
       "      <th>persona</th>\n",
       "      <th>lab_minutes</th>\n",
       "    </tr>\n",
       "  </thead>\n",
       "  <tbody>\n",
       "    <tr>\n",
       "      <th>0</th>\n",
       "      <td>2019-03-08</td>\n",
       "      <td>13:14:00</td>\n",
       "      <td>XD</td>\n",
       "      <td>x1</td>\n",
       "      <td>795</td>\n",
       "    </tr>\n",
       "    <tr>\n",
       "      <th>1</th>\n",
       "      <td>2019-03-08</td>\n",
       "      <td>13:15:00</td>\n",
       "      <td>Quien es Kike y quien ea Lalo?</td>\n",
       "      <td>x2</td>\n",
       "      <td>796</td>\n",
       "    </tr>\n",
       "    <tr>\n",
       "      <th>2</th>\n",
       "      <td>2019-03-08</td>\n",
       "      <td>13:15:00</td>\n",
       "      <td>🤔</td>\n",
       "      <td>x2</td>\n",
       "      <td>796</td>\n",
       "    </tr>\n",
       "    <tr>\n",
       "      <th>3</th>\n",
       "      <td>2019-03-08</td>\n",
       "      <td>13:16:00</td>\n",
       "      <td>&lt;Multimedia omitido&gt;</td>\n",
       "      <td>x3</td>\n",
       "      <td>797</td>\n",
       "    </tr>\n",
       "    <tr>\n",
       "      <th>4</th>\n",
       "      <td>2019-03-08</td>\n",
       "      <td>13:17:00</td>\n",
       "      <td>Va jeje</td>\n",
       "      <td>x2</td>\n",
       "      <td>798</td>\n",
       "    </tr>\n",
       "  </tbody>\n",
       "</table>\n",
       "</div>"
      ],
      "text/plain": [
       "        fecha      hora                          mensaje persona  lab_minutes\n",
       "0  2019-03-08  13:14:00                               XD      x1          795\n",
       "1  2019-03-08  13:15:00   Quien es Kike y quien ea Lalo?      x2          796\n",
       "2  2019-03-08  13:15:00                               🤔      x2          796\n",
       "3  2019-03-08  13:16:00             <Multimedia omitido>      x3          797\n",
       "4  2019-03-08  13:17:00                          Va jeje      x2          798"
      ]
     },
     "execution_count": 6,
     "metadata": {},
     "output_type": "execute_result"
    }
   ],
   "source": [
    "df.head(5)"
   ]
  },
  {
   "cell_type": "code",
   "execution_count": 8,
   "metadata": {},
   "outputs": [],
   "source": [
    "dataset = df.values"
   ]
  },
  {
   "cell_type": "code",
   "execution_count": 10,
   "metadata": {},
   "outputs": [],
   "source": [
    "X = dataset[:, :-1]\n",
    "y = dataset[:,-1]"
   ]
  },
  {
   "cell_type": "code",
   "execution_count": 12,
   "metadata": {},
   "outputs": [
    {
     "data": {
      "text/plain": [
       "array([[u'2019-03-08', u'13:14:00', u' XD', u'x1'],\n",
       "       [u'2019-03-08', u'13:15:00', u' Quien es Kike y quien ea Lalo?',\n",
       "        u'x2'],\n",
       "       [u'2019-03-08', u'13:15:00', u' \\U0001f914', u'x2'],\n",
       "       ...,\n",
       "       [u'2020-01-02', u'07:54:00', u' Jejejeje', u'x2'],\n",
       "       [u'2020-01-02', u'08:07:00', u' \\U0001f440', u'x5'],\n",
       "       [u'2020-01-02', u'09:23:00', u' \\U0001f914\\U0001f914\\U0001f914',\n",
       "        u'x2']], dtype=object)"
      ]
     },
     "execution_count": 12,
     "metadata": {},
     "output_type": "execute_result"
    }
   ],
   "source": []
  },
  {
   "cell_type": "code",
   "execution_count": null,
   "metadata": {},
   "outputs": [],
   "source": []
  }
 ],
 "metadata": {
  "kernelspec": {
   "display_name": "Python 2",
   "language": "python",
   "name": "python2"
  },
  "language_info": {
   "codemirror_mode": {
    "name": "ipython",
    "version": 2
   },
   "file_extension": ".py",
   "mimetype": "text/x-python",
   "name": "python",
   "nbconvert_exporter": "python",
   "pygments_lexer": "ipython2",
   "version": "2.7.16"
  }
 },
 "nbformat": 4,
 "nbformat_minor": 2
}
